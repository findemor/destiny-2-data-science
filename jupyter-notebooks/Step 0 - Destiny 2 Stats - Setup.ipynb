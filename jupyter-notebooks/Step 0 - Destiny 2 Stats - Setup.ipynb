{
 "cells": [
  {
   "cell_type": "markdown",
   "metadata": {},
   "source": [
    "# Step 0 - Destiny 2 Stats - Setup\n",
    "\n",
    "En este cuaderno están las funcionalidades básicas para configurar el acceso al API.\n",
    "Este cuaderno genera una serie de ficheros en la carpeta de configuración con la información del usuario y el personaje que serán leidos desde otros cuadernos para obtener la información."
   ]
  },
  {
   "cell_type": "code",
   "execution_count": 1,
   "metadata": {},
   "outputs": [],
   "source": [
    "import requests\n",
    "import json\n",
    "import os\n",
    "import pandas as pd\n",
    "import base64\n",
    "import urllib\n",
    "from calendar import monthrange\n",
    "import seaborn as sns\n",
    "import numpy as np\n",
    "import matplotlib.pyplot as plt"
   ]
  },
  {
   "cell_type": "code",
   "execution_count": 2,
   "metadata": {},
   "outputs": [],
   "source": [
    "def readAPIKeyFromFile():\n",
    "    apikeyfile = open(\"apikey.txt\",\"r+\")\n",
    "    apikey = apikeyfile.readline()\n",
    "    apikeyfile.close\n",
    "    return apikey"
   ]
  },
  {
   "cell_type": "markdown",
   "metadata": {},
   "source": [
    "## Especificar el APIKey y el nombre del jugador\n",
    "\n",
    "Indicar a continuación el __nombre del jugador__ que se va a analizar (al cual pertenecen los personajes) y el API Key que hemos obtenido desde la web de Bungie (Hay más instrucciones en el [fichero README de este repositorio](https://github.com/findemor/destiny-2-data-science/blob/main/README.md))\n",
    "\n"
   ]
  },
  {
   "cell_type": "code",
   "execution_count": 3,
   "metadata": {},
   "outputs": [],
   "source": [
    "# Parametros\n",
    "ApiKey = readAPIKeyFromFile() #o mete aqui tu API Key directamente asi ApiKey = \"TU_API_KEY\"\n",
    "username = \"findemor\""
   ]
  },
  {
   "cell_type": "markdown",
   "metadata": {},
   "source": [
    "### A continuación se definen algunas funciones necesarias más adelante"
   ]
  },
  {
   "cell_type": "code",
   "execution_count": 4,
   "metadata": {},
   "outputs": [],
   "source": [
    "# Carpeta auxiliar para almacenar los ficheros temporales\n",
    "def requestWithCache(method, url, headers, data, verbose = False):\n",
    "    cacheFolder = 'DestinyTemp'\n",
    "    cacheFile = 'cache-0.json'\n",
    "\n",
    "    if not os.path.exists(cacheFolder):\n",
    "        os.makedirs(cacheFolder)\n",
    "    \n",
    "    cachePath = cacheFolder + \"/\" + cacheFile\n",
    "    \n",
    "    #recuperamos la cache\n",
    "    cache = {}\n",
    "    if os.path.isfile(cachePath):\n",
    "        cachef = open(cachePath,\"r+\")\n",
    "        cached = cachef.readlines()\n",
    "        if len(cached) > 0:\n",
    "            cache = json.loads(cached[0])\n",
    "        cachef.close()    \n",
    "    \n",
    "    r = \"\"\n",
    "    \n",
    "    if method == \"GET\":\n",
    "        cachekey = url #base64.urlsafe_b64encode(bytes(url, 'utf-8')).decode('ascii')\n",
    "        if cachekey in cache:\n",
    "            if verbose:\n",
    "                print(\"cache found \" + cachekey)\n",
    "            r = cache[cachekey]            \n",
    "        else:\n",
    "            if verbose:\n",
    "                print(\"cache not found \" + cachekey)\n",
    "            response = requests.request(method, url = url, headers=headers, data=data)\n",
    "            r = response.text\n",
    "            #grabamos la cache\n",
    "            cache[cachekey] = r\n",
    "            cachef = open(cachePath,\"w+\")\n",
    "            cachef.write(json.dumps(cache))\n",
    "            cachef.close()\n",
    "    else:\n",
    "        if verbose:\n",
    "            print(\"cache not apply\")\n",
    "        r = requests.request(method, url = url, headers=headers, data=data)\n",
    "    \n",
    "        \n",
    "    cachef.close()\n",
    "    \n",
    "    return r"
   ]
  },
  {
   "cell_type": "code",
   "execution_count": 5,
   "metadata": {},
   "outputs": [],
   "source": [
    "def downloadClassDefinition():\n",
    "    base = \"https://www.bungie.net\"\n",
    "    url = base + \"/Platform/Destiny2/Manifest/\"\n",
    "    headers = { 'X-API-Key': ApiKey }\n",
    "    #response = requests.request(\"GET\", url, headers=headers, data={})\n",
    "    response = requestWithCache(method = \"GET\", url = url, headers = headers, data = {})\n",
    "    data = json.loads(response)\n",
    "    def_url = base + data[\"Response\"][\"jsonWorldComponentContentPaths\"][\"en\"][\"DestinyClassDefinition\"]\n",
    "    #response = requests.request(\"GET\", url = def_url, headers=headers, data={})\n",
    "    response = requestWithCache(method = \"GET\", url = def_url, headers = headers, data = {})\n",
    "    data = json.loads(response)\n",
    "    \n",
    "    # convierto el json en un dataframe\n",
    "    dfdata = pd.DataFrame(columns=['classHash', 'name'])\n",
    "    i = 0\n",
    "    for d in data:\n",
    "        #for i,c in enumerate(data[\"Response\"][\"characters\"][\"data\"][d]):\n",
    "        c = data[d]\n",
    "        dfdata.loc[i] = [d, data[d][\"displayProperties\"][\"name\"]]\n",
    "        i += 1\n",
    "    return dfdata\n",
    "\n",
    "classesManifest = downloadClassDefinition()\n",
    "classesManifest.classHash = classesManifest.classHash.astype(str)"
   ]
  },
  {
   "cell_type": "code",
   "execution_count": 6,
   "metadata": {},
   "outputs": [],
   "source": [
    "# Buscar la cuenta de usuario que queremos analizar\n",
    "def searchMembershipId(username):\n",
    "    url = \"https://www.bungie.net/Platform/Destiny2/SearchDestinyPlayer/All/\"+ username\n",
    "    headers = { 'X-API-Key': ApiKey }\n",
    "    #response = requests.request(\"GET\", url, headers=headers, data={})\n",
    "    response = requestWithCache(method = \"GET\", url = url, headers = headers, data = {})\n",
    "    data = json.loads(response)\n",
    "    \n",
    "    # convierto el json en un dataframe\n",
    "    dfdata = pd.DataFrame(columns=['displayName', 'membershipId', 'membershipType'])\n",
    "    for i,c in enumerate(data[\"Response\"]):\n",
    "        dfdata.loc[i] = [c[\"displayName\"], c[\"membershipId\"], c['membershipType']]\n",
    "    return dfdata"
   ]
  },
  {
   "cell_type": "code",
   "execution_count": 7,
   "metadata": {},
   "outputs": [],
   "source": [
    "# Buscar el personaje que queremos analizar\n",
    "def searchCharacterId(membershipType, membershipId):\n",
    "    url = \"https://www.bungie.net/Platform/Destiny2/\" + membershipType +\"/Profile/\" + membershipId + \"/?components=200\"\n",
    "    headers = { 'X-API-Key': ApiKey }\n",
    "    #response = requests.request(\"GET\", url, headers=headers, data={})\n",
    "    response = requestWithCache(method = \"GET\", url = url, headers = headers, data = {})\n",
    "    data = json.loads(response)\n",
    "    \n",
    "    # convierto el json en un dataframe\n",
    "    dfdata = pd.DataFrame(columns=['characterId', 'light', 'classHash'])\n",
    "    i = 0\n",
    "    for d in data[\"Response\"][\"characters\"][\"data\"]:\n",
    "        #for i,c in enumerate(data[\"Response\"][\"characters\"][\"data\"][d]):\n",
    "        c = data[\"Response\"][\"characters\"][\"data\"][d]\n",
    "        dfdata.loc[i] = [c[\"characterId\"], c[\"light\"], c['classHash']]\n",
    "        i += 1\n",
    "    return dfdata"
   ]
  },
  {
   "cell_type": "markdown",
   "metadata": {},
   "source": [
    "## Comprobamos los personajes del jugador que hemos indicado más arriba"
   ]
  },
  {
   "cell_type": "code",
   "execution_count": 8,
   "metadata": {},
   "outputs": [
    {
     "data": {
      "text/html": [
       "<div>\n",
       "<style scoped>\n",
       "    .dataframe tbody tr th:only-of-type {\n",
       "        vertical-align: middle;\n",
       "    }\n",
       "\n",
       "    .dataframe tbody tr th {\n",
       "        vertical-align: top;\n",
       "    }\n",
       "\n",
       "    .dataframe thead th {\n",
       "        text-align: right;\n",
       "    }\n",
       "</style>\n",
       "<table border=\"1\" class=\"dataframe\">\n",
       "  <thead>\n",
       "    <tr style=\"text-align: right;\">\n",
       "      <th></th>\n",
       "      <th>displayName</th>\n",
       "      <th>membershipId</th>\n",
       "      <th>membershipType</th>\n",
       "    </tr>\n",
       "  </thead>\n",
       "  <tbody>\n",
       "    <tr>\n",
       "      <th>0</th>\n",
       "      <td>findemor</td>\n",
       "      <td>4611686018445251617</td>\n",
       "      <td>2</td>\n",
       "    </tr>\n",
       "    <tr>\n",
       "      <th>1</th>\n",
       "      <td>findemor</td>\n",
       "      <td>4611686018445251617</td>\n",
       "      <td>2</td>\n",
       "    </tr>\n",
       "  </tbody>\n",
       "</table>\n",
       "</div>"
      ],
      "text/plain": [
       "  displayName         membershipId membershipType\n",
       "0    findemor  4611686018445251617              2\n",
       "1    findemor  4611686018445251617              2"
      ]
     },
     "execution_count": 8,
     "metadata": {},
     "output_type": "execute_result"
    }
   ],
   "source": [
    "members = searchMembershipId(username)\n",
    "members"
   ]
  },
  {
   "cell_type": "markdown",
   "metadata": {},
   "source": [
    "## Del cuadro anterior, identificar y establecer los valores de membresia\n",
    "Observando los dos cuadros anteriores, identificar el membershipId, el membershipType que corresponden al usuario que estamos buscando."
   ]
  },
  {
   "cell_type": "code",
   "execution_count": 9,
   "metadata": {},
   "outputs": [],
   "source": [
    "membership = {\n",
    "    'membershipId': \"4611686018445251617\",\n",
    "    'membershipType': \"2\"\n",
    "}"
   ]
  },
  {
   "cell_type": "code",
   "execution_count": 10,
   "metadata": {},
   "outputs": [
    {
     "data": {
      "text/html": [
       "<div>\n",
       "<style scoped>\n",
       "    .dataframe tbody tr th:only-of-type {\n",
       "        vertical-align: middle;\n",
       "    }\n",
       "\n",
       "    .dataframe tbody tr th {\n",
       "        vertical-align: top;\n",
       "    }\n",
       "\n",
       "    .dataframe thead th {\n",
       "        text-align: right;\n",
       "    }\n",
       "</style>\n",
       "<table border=\"1\" class=\"dataframe\">\n",
       "  <thead>\n",
       "    <tr style=\"text-align: right;\">\n",
       "      <th></th>\n",
       "      <th>characterId</th>\n",
       "      <th>light</th>\n",
       "      <th>classHash</th>\n",
       "      <th>name</th>\n",
       "    </tr>\n",
       "  </thead>\n",
       "  <tbody>\n",
       "    <tr>\n",
       "      <th>0</th>\n",
       "      <td>2305843009279555211</td>\n",
       "      <td>1292</td>\n",
       "      <td>3655393761</td>\n",
       "      <td>Titan</td>\n",
       "    </tr>\n",
       "    <tr>\n",
       "      <th>1</th>\n",
       "      <td>2305843009294017733</td>\n",
       "      <td>1320</td>\n",
       "      <td>671679327</td>\n",
       "      <td>Hunter</td>\n",
       "    </tr>\n",
       "    <tr>\n",
       "      <th>2</th>\n",
       "      <td>2305843009700575195</td>\n",
       "      <td>1274</td>\n",
       "      <td>2271682572</td>\n",
       "      <td>Warlock</td>\n",
       "    </tr>\n",
       "  </tbody>\n",
       "</table>\n",
       "</div>"
      ],
      "text/plain": [
       "           characterId light   classHash     name\n",
       "0  2305843009279555211  1292  3655393761    Titan\n",
       "1  2305843009294017733  1320   671679327   Hunter\n",
       "2  2305843009700575195  1274  2271682572  Warlock"
      ]
     },
     "execution_count": 10,
     "metadata": {},
     "output_type": "execute_result"
    }
   ],
   "source": [
    "characters = searchCharacterId(membershipType = membership[\"membershipType\"], membershipId = membership[\"membershipId\"])\n",
    "characters.classHash = characters.classHash.astype(str)\n",
    "\n",
    "decoded_characters = pd.merge(left = characters, right = classesManifest, left_on=\"classHash\", right_on=\"classHash\")\n",
    "decoded_characters"
   ]
  },
  {
   "cell_type": "markdown",
   "metadata": {},
   "source": [
    "## Del cuadro anterior, identificar y establecer los valores del personaje a analizar\n",
    "\n",
    "Elegir el que characterId que corresponda y establecer los valores a continuación"
   ]
  },
  {
   "cell_type": "code",
   "execution_count": 11,
   "metadata": {},
   "outputs": [],
   "source": [
    "character = {\n",
    "    \"characterId\": \"2305843009294017733\"\n",
    "}"
   ]
  },
  {
   "cell_type": "markdown",
   "metadata": {},
   "source": [
    "# Se guardan todos estos valores para su uso posterior\n",
    "Ahora se van a generar los ficheros de la carpeta config con la informacion que hemos introducido"
   ]
  },
  {
   "cell_type": "code",
   "execution_count": 12,
   "metadata": {},
   "outputs": [],
   "source": [
    "data = {\n",
    "    \"ApiKey\": ApiKey,\n",
    "    \"username\": username,\n",
    "    \"character\": character,\n",
    "    \"membership\": membership\n",
    "}\n",
    "\n",
    "folder = \"config\"\n",
    "\n",
    "if not os.path.exists(folder):\n",
    "    os.makedirs(folder)\n",
    "\n",
    "cachef = open(folder + \"/setup.json\",\"w+\")\n",
    "cachef.write(json.dumps(data))\n",
    "cachef.close()"
   ]
  },
  {
   "cell_type": "markdown",
   "metadata": {},
   "source": [
    "## Abrir el siguiente Notebook"
   ]
  }
 ],
 "metadata": {
  "kernelspec": {
   "display_name": "Python 3",
   "language": "python",
   "name": "python3"
  },
  "language_info": {
   "codemirror_mode": {
    "name": "ipython",
    "version": 3
   },
   "file_extension": ".py",
   "mimetype": "text/x-python",
   "name": "python",
   "nbconvert_exporter": "python",
   "pygments_lexer": "ipython3",
   "version": "3.8.5"
  }
 },
 "nbformat": 4,
 "nbformat_minor": 4
}
